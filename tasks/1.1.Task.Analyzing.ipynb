{
 "cells": [
  {
   "cell_type": "code",
   "execution_count": 1,
   "id": "17da7ccd-02b1-4593-b794-a5a10ccefd0c",
   "metadata": {},
   "outputs": [],
   "source": [
    "import os"
   ]
  },
  {
   "cell_type": "code",
   "execution_count": 2,
   "id": "835d0e12-fec4-44e4-a69a-054af3d6ea5c",
   "metadata": {},
   "outputs": [],
   "source": [
    "os.chdir(\"../\")"
   ]
  },
  {
   "cell_type": "code",
   "execution_count": 3,
   "id": "b2f61628-a22e-4ab2-bb76-38875215546d",
   "metadata": {},
   "outputs": [],
   "source": [
    "os.chdir(\"src\")"
   ]
  },
  {
   "cell_type": "code",
   "execution_count": 4,
   "id": "735d7c53-b873-486a-a8cf-adc2dad7e847",
   "metadata": {},
   "outputs": [],
   "source": [
    "from anomaly_detection import *\n",
    "from utils import *\n",
    "from data_preparation import *\n",
    "from constants import DATA_PATH, SEP_CSV\n",
    "import matplotlib.pyplot as plt"
   ]
  },
  {
   "cell_type": "code",
   "execution_count": 5,
   "id": "a1b84a76-44ca-4268-a6ea-4065f1b6f80f",
   "metadata": {},
   "outputs": [],
   "source": [
    "os.chdir(\"../\")"
   ]
  },
  {
   "cell_type": "code",
   "execution_count": 6,
   "id": "b76ddbad-60ae-4f05-b1a2-6eea78106403",
   "metadata": {},
   "outputs": [],
   "source": [
    "df = get_data()"
   ]
  },
  {
   "cell_type": "markdown",
   "id": "b2b8f114-a461-4045-b01b-acde32af19b2",
   "metadata": {},
   "source": [
    "### Step 1: Find registration all-time highs "
   ]
  },
  {
   "cell_type": "code",
   "execution_count": 7,
   "id": "fde3346c-5394-4196-93fa-0bb7319c80f9",
   "metadata": {},
   "outputs": [],
   "source": [
    "def find_all_time_high(df):\n",
    "    max_value = df['c_VALUE'].max()\n",
    "    all_time_high = df[df['c_VALUE'] == max_value]\n",
    "    return all_time_high"
   ]
  },
  {
   "cell_type": "code",
   "execution_count": 8,
   "id": "0e01e7b8-7d03-4354-84a9-20fb3f82713b",
   "metadata": {},
   "outputs": [
    {
     "name": "stdout",
     "output_type": "stream",
     "text": [
      "All-Time High:\n",
      "           c_FEATURE_1 c_FEATURE_2 c_FEATURE_3 c_FEATURE_4  c_VALUE\n",
      "c_DATE                                                             \n",
      "1990-01-01     Italien        Fiat       Hatch         Uno    50566\n"
     ]
    }
   ],
   "source": [
    "all_time_high = find_all_time_high(df)\n",
    "print(\"All-Time High:\")\n",
    "print(all_time_high)"
   ]
  },
  {
   "cell_type": "code",
   "execution_count": 9,
   "id": "dc45954b-d344-4bb6-8c71-2de80aec1e55",
   "metadata": {},
   "outputs": [],
   "source": [
    "def find_all_time_high_keys(df, c_FEATURE_1, c_FEATURE_2, c_FEATURE_3, c_FEATURE_4):\n",
    "    filter_condition = (\n",
    "        (df['c_FEATURE_1'] == c_FEATURE_1) &\n",
    "        (df['c_FEATURE_2'] == c_FEATURE_2) &\n",
    "        (df['c_FEATURE_3'] == c_FEATURE_3) &\n",
    "        (df['c_FEATURE_4'] == c_FEATURE_4)\n",
    "    )\n",
    "    filtered_data = df[filter_condition]\n",
    "    max_value = filtered_data['c_VALUE'].max()\n",
    "    max_timestamp = filtered_data.loc[filtered_data['c_VALUE'].idxmax()].name\n",
    "    return max_value, max_timestamp"
   ]
  },
  {
   "cell_type": "code",
   "execution_count": 10,
   "id": "faaf7d22-8380-4e86-8840-9a96743a1ee6",
   "metadata": {},
   "outputs": [
    {
     "name": "stdout",
     "output_type": "stream",
     "text": [
      "Maximum value for the given keys: 396\n",
      "Timestamp of the maximum value: 1992-01-01 00:00:00\n"
     ]
    }
   ],
   "source": [
    "max_value, max_timestamp = find_all_time_high_keys(df, 'Belgien', 'Alfa Romeo', 'Hatch', '33')\n",
    "print(\"Maximum value for the given keys:\", max_value)\n",
    "print(\"Timestamp of the maximum value:\", max_timestamp)"
   ]
  },
  {
   "cell_type": "markdown",
   "id": "2e2545f0-b842-4c6b-8761-1bf2497bceed",
   "metadata": {},
   "source": [
    "### Step 2: Find lifecycle highs"
   ]
  },
  {
   "cell_type": "code",
   "execution_count": 11,
   "id": "ba245817-3da7-497a-9d47-c549166ee26e",
   "metadata": {},
   "outputs": [],
   "source": [
    "def find_lifecycle_highs(df, c_FEATURE_1, lifecycle_threshold):\n",
    "    filtered_df = df[df['c_FEATURE_1'] == c_FEATURE_1]  # Filter by c_FEATURE_1\n",
    "    max_value_indices = filtered_df.groupby(['c_FEATURE_1', 'c_FEATURE_2', 'c_FEATURE_3', 'c_FEATURE_4'])['c_VALUE'].idxmax()\n",
    "    max_rows = filtered_df.loc[max_value_indices]\n",
    "    lifecycle_highs = max_rows[max_rows['c_VALUE'] > lifecycle_threshold]\n",
    "    return lifecycle_highs"
   ]
  },
  {
   "cell_type": "code",
   "execution_count": 12,
   "id": "bf036a39-2770-45f6-a9ca-175540bdd620",
   "metadata": {
    "tags": []
   },
   "outputs": [
    {
     "name": "stdout",
     "output_type": "stream",
     "text": [
      "\n",
      "Rows with Maximum Values:\n",
      "            c_FEATURE_1 c_FEATURE_2 c_FEATURE_3 c_FEATURE_4  c_VALUE\n",
      "c_DATE                                                              \n",
      "1987-11-01  Deutschland     Renault       Hatch          11     1737\n",
      "1987-11-01  Deutschland     Peugeot       Hatch         205     2054\n",
      "1987-11-01  Deutschland     Peugeot       Hatch         205     1254\n",
      "1987-11-01  Deutschland       Mazda       Hatch         323     1041\n",
      "1987-11-01  Deutschland         BMW   Limousine         3er     7507\n",
      "...                 ...         ...         ...         ...      ...\n",
      "2020-03-01  Deutschland    Mercedes         MPV    V-Klasse     1444\n",
      "2020-03-01  Deutschland         BMW         SAV          X1     1365\n",
      "2020-03-01  Deutschland         BMW         SAV          X3     1104\n",
      "2020-03-01  Deutschland      Toyota       Hatch       Yaris     1365\n",
      "2020-03-01  Deutschland     Hyundai       Hatch         i20     1214\n",
      "\n",
      "[175261 rows x 5 columns]\n"
     ]
    }
   ],
   "source": [
    "max_rows = find_lifecycle_highs(df, 'Deutschland', lifecycle_threshold=1000)\n",
    "print(\"\\nRows with Maximum Values:\")\n",
    "print(max_rows)"
   ]
  },
  {
   "cell_type": "markdown",
   "id": "4207f260-0544-4286-b25b-3f42c113ed86",
   "metadata": {},
   "source": [
    "### Step 3: Identify offer interruptions"
   ]
  },
  {
   "cell_type": "code",
   "execution_count": 13,
   "id": "081598a3-dbc5-499c-be2f-4957899cd5d4",
   "metadata": {},
   "outputs": [],
   "source": [
    "def identify_offer_interruptions(df, c_FEATURE_1, interruption_threshold):\n",
    "    filtered_df = df[df['c_FEATURE_1'] == c_FEATURE_1]  # Filter by c_FEATURE_1\n",
    "    min_value_indices = filtered_df.groupby(['c_FEATURE_1', 'c_FEATURE_2', 'c_FEATURE_3', 'c_FEATURE_4'])['c_VALUE'].idxmin()\n",
    "    min_rows = filtered_df.loc[min_value_indices]\n",
    "    offer_interruptions = min_rows[min_rows['c_VALUE'] < interruption_threshold]\n",
    "    return offer_interruptions"
   ]
  },
  {
   "cell_type": "code",
   "execution_count": 14,
   "id": "1908df57-8fbe-4609-ad19-21257a40ad2d",
   "metadata": {},
   "outputs": [
    {
     "name": "stdout",
     "output_type": "stream",
     "text": [
      "\n",
      "Offer Interruptions:\n",
      "            c_FEATURE_1 c_FEATURE_2     c_FEATURE_3   c_FEATURE_4  c_VALUE\n",
      "c_DATE                                                                    \n",
      "1996-01-01  Deutschland     Peugeot           Hatch           106        0\n",
      "1996-01-01  Deutschland     Peugeot           Hatch           106        0\n",
      "1996-01-01  Deutschland       Mazda           Hatch           121        0\n",
      "1996-01-01  Deutschland        Fiat       Limousine           126        1\n",
      "1996-01-01  Deutschland  Alfa Romeo       Limousine           164        3\n",
      "...                 ...         ...             ...           ...      ...\n",
      "2019-01-01  Deutschland     Hyundai  Andere/Unspez.           i30        0\n",
      "2019-01-01  Deutschland     Hyundai           Hatch           i30        1\n",
      "2019-01-01  Deutschland     Hyundai           Hatch  i30 Fastback        4\n",
      "2019-01-01  Deutschland     Hyundai             SAT          ix20        0\n",
      "2019-01-01  Deutschland     Hyundai             SAV          ix55        1\n",
      "\n",
      "[957331 rows x 5 columns]\n"
     ]
    }
   ],
   "source": [
    "offer_interruptions = identify_offer_interruptions(df, 'Deutschland', interruption_threshold=5)\n",
    "print(\"\\nOffer Interruptions:\")\n",
    "print(offer_interruptions)"
   ]
  },
  {
   "cell_type": "code",
   "execution_count": 15,
   "id": "66b6d787-7a93-4a42-a2e8-0b6fa85a1e49",
   "metadata": {},
   "outputs": [],
   "source": [
    "def identify_offer_interruptions_withAll(df, c_FEATURE_1, c_FEATURE_2, c_FEATURE_3, c_FEATURE_4, interruption_threshold):\n",
    "    filtered_df = df[(df['c_FEATURE_1'] == c_FEATURE_1) &\n",
    "                     (df['c_FEATURE_2'] == c_FEATURE_2) &\n",
    "                     (df['c_FEATURE_3'] == c_FEATURE_3) &\n",
    "                     (df['c_FEATURE_4'] == c_FEATURE_4)]  # Filter by c_FEATUREs\n",
    "    offer_interruptions = filtered_df[filtered_df['c_VALUE'] < interruption_threshold]\n",
    "    offer_interruptions = offer_interruptions.reset_index()\n",
    "    return offer_interruptions"
   ]
  },
  {
   "cell_type": "code",
   "execution_count": 16,
   "id": "a426a84a-6a3c-4952-93bc-6ce927d34a59",
   "metadata": {},
   "outputs": [
    {
     "name": "stdout",
     "output_type": "stream",
     "text": [
      "\n",
      "Offer Interruptions:\n",
      "       c_DATE  c_FEATURE_1 c_FEATURE_2 c_FEATURE_3 c_FEATURE_4  c_VALUE\n",
      "0  2004-01-01  Niederlande         PGO    Roadster     unspec.        0\n",
      "1  2004-02-01  Niederlande         PGO    Roadster     unspec.        0\n",
      "2  2004-03-01  Niederlande         PGO    Roadster     unspec.        0\n",
      "3  2004-04-01  Niederlande         PGO    Roadster     unspec.        0\n",
      "4  2004-05-01  Niederlande         PGO    Roadster     unspec.        0\n",
      "5  2004-06-01  Niederlande         PGO    Roadster     unspec.        0\n",
      "6  2005-06-01  Niederlande         PGO    Roadster     unspec.        2\n",
      "7  2004-07-01  Niederlande         PGO    Roadster     unspec.        0\n",
      "8  2005-07-01  Niederlande         PGO    Roadster     unspec.        0\n",
      "9  2005-08-01  Niederlande         PGO    Roadster     unspec.        1\n",
      "10 2005-09-01  Niederlande         PGO    Roadster     unspec.        1\n",
      "11 2004-10-01  Niederlande         PGO    Roadster     unspec.        1\n",
      "12 2005-10-01  Niederlande         PGO    Roadster     unspec.        0\n",
      "13 2005-11-01  Niederlande         PGO    Roadster     unspec.        1\n",
      "14 2004-12-01  Niederlande         PGO    Roadster     unspec.        2\n",
      "15 2005-12-01  Niederlande         PGO    Roadster     unspec.        0\n"
     ]
    }
   ],
   "source": [
    "offer_interruptions = identify_offer_interruptions_withAll(df, 'Niederlande', 'PGO', 'Roadster', 'unspec.', interruption_threshold=3)\n",
    "print(\"\\nOffer Interruptions:\")\n",
    "print(offer_interruptions)"
   ]
  },
  {
   "cell_type": "markdown",
   "id": "46db75f9-7d2d-4498-88e9-822f31c8bbf9",
   "metadata": {},
   "source": [
    "### Step 4: Develop a dynamic method"
   ]
  },
  {
   "cell_type": "code",
   "execution_count": 17,
   "id": "352cc78c-d868-44e4-b111-2316f103dbb0",
   "metadata": {},
   "outputs": [],
   "source": [
    "def identify_events(df, c_FEATURE_1, lifecycle_threshold, interruption_threshold):\n",
    "    all_time_high = find_all_time_high(df)\n",
    "    lifecycle_highs = find_lifecycle_highs(df, c_FEATURE_1, lifecycle_threshold)\n",
    "    offer_interruptions = identify_offer_interruptions(df, c_FEATURE_1, interruption_threshold)\n",
    "    \n",
    "    events = pd.concat([all_time_high, lifecycle_highs, offer_interruptions])\n",
    "    events = events.drop_duplicates()\n",
    "    \n",
    "    return events"
   ]
  },
  {
   "cell_type": "code",
   "execution_count": 18,
   "id": "7a3d965f-d304-4aa7-a3d2-d519f5d40a91",
   "metadata": {},
   "outputs": [
    {
     "name": "stdout",
     "output_type": "stream",
     "text": [
      "\n",
      "Events:\n",
      "            c_FEATURE_1 c_FEATURE_2     c_FEATURE_3 c_FEATURE_4  c_VALUE\n",
      "c_DATE                                                                  \n",
      "1990-01-01      Italien        Fiat           Hatch         Uno    50566\n",
      "1987-11-01  Deutschland     Renault           Hatch          11     1737\n",
      "1987-11-01  Deutschland     Peugeot           Hatch         205     2054\n",
      "1987-11-01  Deutschland     Peugeot           Hatch         205     1254\n",
      "1987-11-01  Deutschland       Mazda           Hatch         323     1041\n",
      "...                 ...         ...             ...         ...      ...\n",
      "2013-07-01  Deutschland      Toyota           Hatch          IQ        0\n",
      "2001-02-01  Deutschland          VW  Andere/Unspez.         Gol        0\n",
      "1983-05-01  Deutschland    Vauxhall           Kombi    Chevette        0\n",
      "2015-02-01  Deutschland       Volvo           Kombi        XC70        0\n",
      "2022-08-01  Deutschland      Zhidou           Hatch     ZD1/ZD2        0\n",
      "\n",
      "[32591 rows x 5 columns]\n"
     ]
    }
   ],
   "source": [
    "# Example 4: Identify events\n",
    "events = identify_events(df, c_FEATURE_1 = 'Deutschland', lifecycle_threshold=1000, interruption_threshold=0.1)\n",
    "print(\"\\nEvents:\")\n",
    "print(events)"
   ]
  },
  {
   "cell_type": "code",
   "execution_count": null,
   "id": "ddd26182-37dc-4a4e-ae29-5bed14fbafff",
   "metadata": {},
   "outputs": [],
   "source": []
  }
 ],
 "metadata": {
  "kernelspec": {
   "display_name": "Python 3 (ipykernel)",
   "language": "python",
   "name": "python3"
  },
  "language_info": {
   "codemirror_mode": {
    "name": "ipython",
    "version": 3
   },
   "file_extension": ".py",
   "mimetype": "text/x-python",
   "name": "python",
   "nbconvert_exporter": "python",
   "pygments_lexer": "ipython3",
   "version": "3.10.7"
  }
 },
 "nbformat": 4,
 "nbformat_minor": 5
}
