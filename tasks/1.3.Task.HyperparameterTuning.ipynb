{
 "cells": [
  {
   "cell_type": "code",
   "execution_count": 1,
   "id": "d8c001d9-a005-447f-9847-17face8f1e37",
   "metadata": {},
   "outputs": [],
   "source": [
    "import os"
   ]
  },
  {
   "cell_type": "code",
   "execution_count": 2,
   "id": "70c8575d-fff3-40be-9676-192db93d5c91",
   "metadata": {},
   "outputs": [],
   "source": [
    "os.chdir(\"../\")"
   ]
  },
  {
   "cell_type": "code",
   "execution_count": 3,
   "id": "3bf16061-a34c-484b-b658-e1a8d847faa6",
   "metadata": {},
   "outputs": [],
   "source": [
    "os.chdir(\"src\")"
   ]
  },
  {
   "cell_type": "code",
   "execution_count": 4,
   "id": "4890bd11-1887-4eaf-8466-9fada898bf23",
   "metadata": {},
   "outputs": [],
   "source": [
    "import itertools\n",
    "import numpy as np\n",
    "import pandas as pd\n",
    "import matplotlib.pyplot as plt \n",
    "\n",
    "from sklearn.preprocessing import MinMaxScaler\n",
    "from tensorflow.keras.models import Sequential\n",
    "from tensorflow.keras.layers import LSTM, Dense\n",
    "from sklearn.model_selection import RandomizedSearchCV, train_test_split\n",
    "# from tensorflow.keras.wrappers.scikit_learn import KerasClassifier\n",
    "from tensorflow.keras.wrappers.scikit_learn import KerasRegressor\n",
    "from keras.models import Sequential\n",
    "from keras.layers import LSTM, Dense\n",
    "\n",
    "from anomaly_detection import *\n",
    "from utils import *\n",
    "from data_preparation import *\n",
    "from constants import DATA_PATH, SEP_CSV\n",
    "\n",
    "from sklearn.metrics import f1_score\n",
    "from sklearn.metrics import mean_squared_error\n",
    "\n",
    "from sklearn.utils import check_random_state\n",
    "from scipy.stats import randint as sp_randint"
   ]
  },
  {
   "cell_type": "code",
   "execution_count": 5,
   "id": "c431df88-4ebb-4cb8-8864-d5491d62082d",
   "metadata": {},
   "outputs": [],
   "source": [
    "os.chdir(\"../\")"
   ]
  },
  {
   "cell_type": "code",
   "execution_count": 6,
   "id": "fec8598a-bf08-4d87-a774-938823322fa2",
   "metadata": {},
   "outputs": [],
   "source": [
    "def prepare_data(data, lookback):\n",
    "    X, y = [], []\n",
    "    for i in range(len(data) - lookback):\n",
    "        X.append(data[i:i + lookback])\n",
    "        y.append(data[i + lookback])\n",
    "    X = np.array(X)\n",
    "    y = np.array(y)\n",
    "    return X, y"
   ]
  },
  {
   "cell_type": "code",
   "execution_count": 7,
   "id": "8cb5ae68-bcce-4d7b-9210-22e01e0d389e",
   "metadata": {},
   "outputs": [],
   "source": [
    "def create_model(lookback, threshold):\n",
    "    model = Sequential()\n",
    "    model.add(LSTM(50, input_shape=(10, 1)))  # Update the input_shape parameter\n",
    "    model.add(Dense(1, activation='relu'))\n",
    "    model.compile(loss='binary_crossentropy', optimizer='adam', metrics=['accuracy'])\n",
    "    return model"
   ]
  },
  {
   "cell_type": "code",
   "execution_count": 8,
   "id": "b0e5bb33-74bb-4d6d-aceb-37917ec40b65",
   "metadata": {},
   "outputs": [],
   "source": [
    "def hyperparameter_tuning(c_FEATURE_1, c_FEATURE_2, c_FEATURE_3, c_FEATURE_4, lookback):\n",
    "    # Split the data into training and testing sets\n",
    "    df_prep = get_data()\n",
    "    timeseries = get_filtered_timeseries(df_prep, c_FEATURE_1, c_FEATURE_2, c_FEATURE_3, c_FEATURE_4)\n",
    "    scaler = MinMaxScaler(feature_range=(0, 1))\n",
    "    normalized_data = scaler.fit_transform(timeseries.values)\n",
    "    X, y = prepare_data(normalized_data, lookback)\n",
    "    X_train, X_test, y_train, y_test = train_test_split(X, y, test_size=0.2, random_state=42)\n",
    "\n",
    "    # Define the parameter grid\n",
    "    param_dist = {\n",
    "        'epochs': [10, 20],\n",
    "        'lookback': [10, 20],\n",
    "        'batch_size': [32, 64],\n",
    "        'threshold': [0.1, 0.2]\n",
    "    }\n",
    "\n",
    "    # Create the model\n",
    "    model = KerasRegressor(build_fn=create_model, lookback=lookback, threshold=0.2, verbose=0)\n",
    "\n",
    "    # Perform random search\n",
    "    random_search = RandomizedSearchCV(model, param_distributions=param_dist, scoring='neg_mean_squared_error', cv=3, n_iter=5)\n",
    "    random_search.fit(X_train, y_train)\n",
    "\n",
    "    # Get the best hyperparameters and MSE score\n",
    "    best_hyperparameters = random_search.best_params_\n",
    "    best_mse_score = -random_search.best_score_\n",
    "\n",
    "    return best_hyperparameters, best_mse_score"
   ]
  },
  {
   "cell_type": "code",
   "execution_count": 10,
   "id": "2dafa764-8078-407c-b09b-4cff4cbb9204",
   "metadata": {
    "tags": []
   },
   "outputs": [
    {
     "name": "stdout",
     "output_type": "stream",
     "text": [
      "Best Hyperparameters: {'threshold': 0.1, 'lookback': 20, 'epochs': 20, 'batch_size': 32}\n",
      "Best mse_score: 0.046489269869879335\n"
     ]
    }
   ],
   "source": [
    "best_hyperparameters, best_mse_score = hyperparameter_tuning('Belgien', 'MINI', 'Cabrio', '', lookback=10)\n",
    "\n",
    "print(\"Best Hyperparameters:\", best_hyperparameters)\n",
    "print(\"Best mse_score:\", best_mse_score)"
   ]
  },
  {
   "cell_type": "code",
   "execution_count": 11,
   "id": "1813050d-79ef-4aba-881d-3b82e5b827dd",
   "metadata": {},
   "outputs": [
    {
     "name": "stdout",
     "output_type": "stream",
     "text": [
      "Best Hyperparameters: {'threshold': 0.2, 'lookback': 10, 'epochs': 10, 'batch_size': 32}\n",
      "Best mse_score: 0.078790028069067\n"
     ]
    }
   ],
   "source": [
    "best_hyperparameters, best_mse_score = hyperparameter_tuning('Niederlande', 'PGO', 'Roadster', 'unspec.', lookback=10)\n",
    "\n",
    "print(\"Best Hyperparameters:\", best_hyperparameters)\n",
    "print(\"Best mse_score:\", best_mse_score)"
   ]
  },
  {
   "cell_type": "code",
   "execution_count": 12,
   "id": "15af57eb-74d0-4221-a7b9-c7fb41a49f4b",
   "metadata": {},
   "outputs": [
    {
     "name": "stdout",
     "output_type": "stream",
     "text": [
      "Best Hyperparameters: {'threshold': 0.2, 'lookback': 20, 'epochs': 10, 'batch_size': 32}\n",
      "Best mse_score: 0.04456632745333974\n"
     ]
    }
   ],
   "source": [
    "best_hyperparameters, best_mse_score = hyperparameter_tuning('Belgien', 'Alfa Romeo', 'Coupe', '4C', lookback=10)\n",
    "\n",
    "print(\"Best Hyperparameters:\", best_hyperparameters)\n",
    "print(\"Best mse_score:\", best_mse_score)"
   ]
  },
  {
   "cell_type": "code",
   "execution_count": null,
   "id": "6c2627f2-2f39-4d33-a30c-c40affc0fe2c",
   "metadata": {},
   "outputs": [],
   "source": []
  }
 ],
 "metadata": {
  "kernelspec": {
   "display_name": "Python 3 (ipykernel)",
   "language": "python",
   "name": "python3"
  },
  "language_info": {
   "codemirror_mode": {
    "name": "ipython",
    "version": 3
   },
   "file_extension": ".py",
   "mimetype": "text/x-python",
   "name": "python",
   "nbconvert_exporter": "python",
   "pygments_lexer": "ipython3",
   "version": "3.10.7"
  }
 },
 "nbformat": 4,
 "nbformat_minor": 5
}
